{
 "cells": [
  {
   "cell_type": "code",
   "execution_count": 15,
   "metadata": {},
   "outputs": [],
   "source": [
    "import torch\n",
    "import numpy as np\n",
    "import pandas as pd\n",
    "import os\n",
    "from tqdm import tqdm\n",
    "from fastdtw import fastdtw\n",
    "from tslearn.clustering import TimeSeriesKMeans, KShape\n",
    "from datetime import datetime\n",
    "import sys\n",
    "sys.path.append(\"../\")\n",
    "from config.cfg_general import CFG_GENERAL\n",
    "from utils.serialization import load_pkl\n",
    "\n",
    "device = torch.device('cuda') if torch.cuda.is_available() else torch.device('cpu')\n",
    "ds_args = {\n",
    "    \"PEMS03\":358,\n",
    "    \"PEMS07\":883,\n",
    "    \"PEMS04\":307,\n",
    "    \"PEMS08\":170,\n",
    "    \"PEMS-BAY\":325,\n",
    "    \"METR-LA\":207\n",
    "}\n",
    "\n",
    "def gen_ds(dataset_name):\n",
    "    if dataset_name in [\"PEMS04\",\"PEMS08\",\"PEMS03\",\"PEMS07\"]:\n",
    "        df = np.load(f\"../datasets/raw_data/{dataset_name}/{dataset_name}.npz\")['data']\n",
    "        df = df[...,[0]]\n",
    "        adj_mx = load_pkl(f\"../datasets/raw_data/{dataset_name}/adj_{dataset_name}.pkl\")\n",
    "    else:\n",
    "        df = pd.read_hdf(\"../datasets/raw_data/PEMS-BAY/PEMS-BAY.h5\")\n",
    "        df = np.expand_dims(df.values, axis=-1)\n",
    "        adj_mx = load_pkl(f\"../datasets/raw_data/{dataset_name}/adj_{dataset_name}.pkl\")[2]\n",
    "\n",
    "    num_samples = df.shape[0] - (CFG_GENERAL.DATASET.HISTORY_SEQ_LEN + CFG_GENERAL.DATASET.FUTURE_SEQ_LEN) + 1\n",
    "    train_num = round(num_samples * CFG_GENERAL.DATASET.TRAIN_RATIO)\n",
    "    data_train = df[:train_num+CFG_GENERAL.DATASET.HISTORY_SEQ_LEN-1]\n",
    "    mean, std = data_train[..., 0].mean(), data_train[..., 0].std()\n",
    "    data_norm = (df - mean)/std\n",
    "\n",
    "    x_list = []\n",
    "    for t in range(CFG_GENERAL.DATASET.HISTORY_SEQ_LEN, num_samples + CFG_GENERAL.DATASET.HISTORY_SEQ_LEN):\n",
    "        x_list.append(data_norm[t-CFG_GENERAL.DATASET.HISTORY_SEQ_LEN:t])\n",
    "\n",
    "    x_train = np.stack(x_list,axis=0)[:train_num]\n",
    "    return adj_mx, x_train, df\n",
    "\n",
    "def gen_sh_mx(dataset_name, num_nodes, adj_mx):\n",
    "    sd_mx = None\n",
    "    type_short_path = 'hop'\n",
    "    sh_path = '{}_sh_mx.npy'.format(dataset_name)\n",
    "    if not os.path.exists(sh_path):\n",
    "        sh_mx = adj_mx.copy()\n",
    "        if type_short_path == 'hop':\n",
    "            sh_mx[sh_mx > 0] = 1\n",
    "            sh_mx[sh_mx == 0] = 511\n",
    "            for i in range(num_nodes):\n",
    "                sh_mx[i, i] = 0\n",
    "            for k in range(num_nodes):\n",
    "                for i in range(num_nodes):\n",
    "                    for j in range(num_nodes):\n",
    "                        sh_mx[i, j] = min(sh_mx[i, j], sh_mx[i, k] + sh_mx[k, j], 511)\n",
    "            np.save(sh_path, sh_mx)\n",
    "\n",
    "    sh_mx = np.load(sh_path)\n",
    "    return sh_mx\n",
    "\n",
    "\n",
    "def gen_dtw(dataset_name, num_nodes, df):\n",
    "    points_per_hour = 12\n",
    "    cache_path = f'{dataset_name}_dtw.npy'\n",
    "    if not os.path.exists(cache_path):\n",
    "        data_mean = np.mean(\n",
    "            [df[24 * points_per_hour * i: 24 * points_per_hour * (i + 1)]\n",
    "                for i in range(df.shape[0] // (24 * points_per_hour))], axis=0)  # \n",
    "        dtw_distance = np.zeros((num_nodes, num_nodes))                          # 一天内的平均数据，\n",
    "        for i in tqdm(range(num_nodes)):\n",
    "            for j in range(i, num_nodes):\n",
    "                dtw_distance[i][j], _ = fastdtw(data_mean[:, i, :], data_mean[:, j, :], radius=6)\n",
    "        for i in range(num_nodes):\n",
    "            for j in range(i):\n",
    "                dtw_distance[i][j] = dtw_distance[j][i]\n",
    "        np.save(cache_path, dtw_distance)\n",
    "    dtw_matrix = np.load(cache_path)\n",
    "    return dtw_matrix\n",
    "\n",
    "def gen_patterns(dataset_name, x_train):\n",
    "    points_per_day = 288\n",
    "    output_dim = 1\n",
    "    cluster_method = 'kshape'\n",
    "    dataset = dataset_name\n",
    "    cand_key_days = 21\n",
    "    s_attn_size = 3\n",
    "    n_cluster = 16\n",
    "    cluster_max_iter = 5\n",
    "\n",
    "    pattern_key_file = os.path.join(\n",
    "        './', 'pattern_keys_{}_{}_{}_{}_{}_{}'.format(\n",
    "            cluster_method, dataset, cand_key_days, s_attn_size, n_cluster, cluster_max_iter))\n",
    "\n",
    "    if not os.path.exists(pattern_key_file + '.npy'):\n",
    "        cand_key_time_steps = cand_key_days * points_per_day\n",
    "        pattern_cand_keys = x_train[:cand_key_time_steps, :s_attn_size, :, :output_dim].swapaxes(1, 2).reshape(-1, s_attn_size, output_dim)\n",
    "        if cluster_method == \"kshape\":\n",
    "            km = KShape(n_clusters=n_cluster, max_iter=cluster_max_iter).fit(pattern_cand_keys)\n",
    "        else:\n",
    "            km = TimeSeriesKMeans(n_clusters=n_cluster, metric=\"softdtw\", max_iter=cluster_max_iter).fit(pattern_cand_keys)\n",
    "        pattern_keys = km.cluster_centers_\n",
    "        np.save(pattern_key_file, pattern_keys)\n",
    "    else:\n",
    "        pattern_keys = np.load(pattern_key_file + \".npy\")\n",
    "\n",
    "    return pattern_keys"
   ]
  },
  {
   "cell_type": "code",
   "execution_count": 16,
   "metadata": {},
   "outputs": [
    {
     "data": {
      "text/plain": [
       "((170, 170), (12483, 12, 170, 1), (17856, 170, 1))"
      ]
     },
     "execution_count": 16,
     "metadata": {},
     "output_type": "execute_result"
    }
   ],
   "source": [
    "ds_name = \"PEMS08\"\n",
    "num_nodes = ds_args[ds_name]\n",
    "adj_mx, x_train, df = gen_ds(ds_name)\n",
    "adj_mx.shape, x_train.shape, df.shape"
   ]
  },
  {
   "cell_type": "markdown",
   "metadata": {},
   "source": [
    "sh_mx用来生成地理MASK矩阵"
   ]
  },
  {
   "cell_type": "code",
   "execution_count": 17,
   "metadata": {},
   "outputs": [
    {
     "data": {
      "text/plain": [
       "array([[0., 7., 6., ..., 7., 8., 8.],\n",
       "       [7., 0., 1., ..., 6., 7., 7.],\n",
       "       [6., 1., 0., ..., 5., 6., 6.],\n",
       "       ...,\n",
       "       [7., 6., 5., ..., 0., 1., 5.],\n",
       "       [8., 7., 6., ..., 1., 0., 5.],\n",
       "       [8., 7., 6., ..., 5., 5., 0.]], dtype=float32)"
      ]
     },
     "execution_count": 17,
     "metadata": {},
     "output_type": "execute_result"
    }
   ],
   "source": [
    "gen_sh_mx(ds_name, num_nodes, adj_mx)"
   ]
  },
  {
   "cell_type": "markdown",
   "metadata": {},
   "source": [
    "DTW矩阵:用于生成语义mask矩阵\n",
    "- 对所有数据按天进行切片和取平均 （288， 170，1）\n",
    "- 对一天内的平均数据，两两计算dtw距离，得到(170,170)的矩阵"
   ]
  },
  {
   "cell_type": "code",
   "execution_count": 18,
   "metadata": {},
   "outputs": [
    {
     "data": {
      "text/plain": [
       "array([[    0.        ,  3300.27419355,  7593.74193548, ...,\n",
       "        20335.08064516,  4038.12903226, 87631.74193548],\n",
       "       [ 3300.27419355,     0.        , 14321.61290323, ...,\n",
       "        31621.61290323, 11455.69354839, 95935.24193548],\n",
       "       [ 7593.74193548, 14321.61290323,     0.        , ...,\n",
       "         8382.66129032,  4679.53225806, 67384.72580645],\n",
       "       ...,\n",
       "       [20335.08064516, 31621.61290323,  8382.66129032, ...,\n",
       "            0.        , 12673.53225806, 47742.        ],\n",
       "       [ 4038.12903226, 11455.69354839,  4679.53225806, ...,\n",
       "        12673.53225806,     0.        , 79790.12903226],\n",
       "       [87631.74193548, 95935.24193548, 67384.72580645, ...,\n",
       "        47742.        , 79790.12903226,     0.        ]])"
      ]
     },
     "execution_count": 18,
     "metadata": {},
     "output_type": "execute_result"
    }
   ],
   "source": [
    "gen_dtw(ds_name, num_nodes, df)"
   ]
  },
  {
   "attachments": {
    "image.png": {
     "image/png": "[encoded data removed]"
    }
   },
   "cell_type": "markdown",
   "metadata": {},
   "source": [
    "### k-shape时间序列聚类\n",
    "[KShape：时间序列数据聚类](https://zhuanlan.zhihu.com/p/529975151?eqid=da416e19000585a7000000036477420c&utm_id=0)  \n",
    "[时序聚类K-Shape](https://zhuanlan.zhihu.com/p/450068680)  \n",
    "- 基于形状的聚类方法。\n",
    "- K-Shape原理和K-means相似，不同在于它改进了距离计算方法，并优化了质心计算方法。一方面支持振幅缩放和平移不变性，另一方面还引入了提取频域特征方法，以提升效率，并且不用手动设置参数，便于扩展到更多领域。\n",
    "- 相对于传统方法，它聚类效果更好；相对于DTW类方法，效果稍差，但速度快很多。\n",
    "- 其他距离计算方法：\n",
    "    - ED：欧几里得距离，最简单效率也最高，直接计算两个时间序列的距离，不考虑横向纵向缩放平移等问题。  \n",
    "    - DTW：动态时间规整，考虑缩放和平移的情况，可用于比较长短不一的序列，效果好但资源占用高。\n",
    "    - cDTW：DTW的限制版本，它将变化限制在一定的“带”之内，有效地提高了DTW的效率和准确率。  \n",
    "    ![image.png](attachment:image.png)\n",
    "- kshape的距离计算方法：使用归一化互相关(SBD)方法计算距离"
   ]
  },
  {
   "cell_type": "markdown",
   "metadata": {},
   "source": [
    "- 构建候选序列：训练集中前21天的序列的前3个时间步构成的子序列，形状为:(1028160, 3, 1) （21 * 288 * 170）\n",
    "- 将候选序列聚类为16个簇，作为历史模式"
   ]
  },
  {
   "cell_type": "code",
   "execution_count": 19,
   "metadata": {},
   "outputs": [
    {
     "data": {
      "text/plain": [
       "(16, 3, 1)"
      ]
     },
     "execution_count": 19,
     "metadata": {},
     "output_type": "execute_result"
    }
   ],
   "source": [
    "gen_patterns(ds_name, x_train).shape"
   ]
  },
  {
   "cell_type": "markdown",
   "metadata": {},
   "source": [
    "***\n",
    "### kshape聚类可视化"
   ]
  },
  {
   "cell_type": "code",
   "execution_count": null,
   "metadata": {},
   "outputs": [
    {
     "name": "stdout",
     "output_type": "stream",
     "text": [
      "聚类标签： [2 3 1 2 3 2 3 0 2 3]\n"
     ]
    },
    {
     "data": {
      "application/vnd.plotly.v1+json": {
       "config": {
        "plotlyServerURL": "https://plot.ly"
       },
       "data": [
        {
         "marker": {
          "color": "blue"
         },
         "mode": "lines",
         "type": "scatter",
         "y": [
          133,
          114,
          140,
          106,
          117,
          110,
          130,
          112,
          115,
          93,
          90,
          93,
          87,
          78,
          98,
          96,
          82,
          85,
          79,
          85,
          100,
          84,
          79,
          82,
          91,
          79,
          74,
          87,
          86,
          94,
          70,
          72,
          101,
          78,
          80,
          96,
          83,
          88,
          87,
          113,
          114,
          117,
          130,
          128,
          138,
          181,
          161,
          156,
          173,
          177,
          234,
          186,
          220,
          271,
          282,
          352,
          336,
          365,
          389,
          420,
          418,
          446,
          419,
          400,
          394,
          375,
          338,
          379,
          388,
          375,
          371,
          340,
          331,
          353,
          368,
          401,
          396,
          428,
          457,
          480,
          409,
          447,
          454,
          445,
          438,
          431,
          437,
          393,
          411,
          420,
          438,
          454,
          440,
          478,
          472,
          400,
          445,
          454,
          461,
          483
         ]
        },
        {
         "marker": {
          "color": "yellow"
         },
         "mode": "lines",
         "type": "scatter",
         "y": [
          210,
          185,
          171,
          174,
          176,
          153,
          141,
          138,
          157,
          136,
          137,
          139,
          135,
          136,
          114,
          116,
          127,
          131,
          131,
          107,
          135,
          138,
          99,
          89,
          101,
          86,
          114,
          113,
          114,
          124,
          114,
          103,
          108,
          102,
          86,
          96,
          86,
          78,
          97,
          88,
          101,
          119,
          124,
          119,
          134,
          131,
          108,
          118,
          104,
          131,
          142,
          124,
          155,
          162,
          174,
          208,
          246,
          213,
          192,
          163,
          170,
          220,
          210,
          251,
          250,
          283,
          293,
          359,
          382,
          375,
          366,
          315,
          289,
          305,
          315,
          352,
          361,
          395,
          416,
          479,
          474,
          550,
          482,
          441,
          426,
          460,
          457,
          548,
          526,
          527,
          570,
          554,
          552,
          595,
          580,
          578,
          542,
          457,
          515,
          542
         ]
        },
        {
         "marker": {
          "color": "black"
         },
         "mode": "lines",
         "type": "scatter",
         "y": [
          124,
          119,
          107,
          98,
          114,
          105,
          102,
          91,
          95,
          101,
          96,
          97,
          76,
          85,
          87,
          78,
          71,
          81,
          88,
          75,
          72,
          97,
          76,
          65,
          72,
          66,
          64,
          70,
          65,
          67,
          83,
          70,
          62,
          64,
          72,
          70,
          62,
          66,
          65,
          71,
          70,
          78,
          90,
          94,
          91,
          87,
          94,
          72,
          77,
          80,
          90,
          90,
          96,
          107,
          118,
          136,
          146,
          147,
          126,
          110,
          106,
          126,
          134,
          129,
          129,
          166,
          189,
          166,
          228,
          174,
          221,
          145,
          196,
          125,
          189,
          153,
          142,
          184,
          192,
          220,
          255,
          268,
          293,
          211,
          248,
          175,
          187,
          253,
          277,
          256,
          302,
          339,
          348,
          357,
          420,
          309,
          276,
          250,
          252,
          241
         ]
        },
        {
         "marker": {
          "color": "blue"
         },
         "mode": "lines",
         "type": "scatter",
         "y": [
          145,
          184,
          146,
          148,
          130,
          156,
          141,
          146,
          107,
          115,
          136,
          109,
          99,
          113,
          122,
          101,
          114,
          100,
          94,
          107,
          113,
          107,
          108,
          98,
          92,
          73,
          90,
          93,
          93,
          98,
          62,
          93,
          99,
          88,
          108,
          107,
          105,
          91,
          101,
          115,
          106,
          126,
          117,
          131,
          178,
          190,
          159,
          190,
          162,
          196,
          199,
          246,
          260,
          328,
          349,
          357,
          382,
          420,
          425,
          450,
          418,
          422,
          386,
          387,
          378,
          373,
          394,
          401,
          389,
          385,
          379,
          356,
          368,
          384,
          420,
          419,
          461,
          482,
          485,
          414,
          490,
          478,
          471,
          460,
          492,
          468,
          420,
          458,
          493,
          485,
          448,
          503,
          483,
          469,
          440,
          448,
          474,
          494,
          484,
          476
         ]
        },
        {
         "marker": {
          "color": "yellow"
         },
         "mode": "lines",
         "type": "scatter",
         "y": [
          206,
          194,
          162,
          193,
          163,
          157,
          158,
          179,
          156,
          177,
          169,
          119,
          131,
          161,
          147,
          124,
          124,
          124,
          128,
          145,
          141,
          141,
          154,
          100,
          111,
          105,
          101,
          112,
          122,
          140,
          111,
          135,
          96,
          101,
          91,
          120,
          104,
          93,
          100,
          108,
          108,
          116,
          144,
          157,
          158,
          151,
          158,
          130,
          126,
          142,
          174,
          193,
          204,
          207,
          243,
          294,
          313,
          361,
          303,
          236,
          226,
          245,
          260,
          321,
          315,
          370,
          352,
          412,
          464,
          506,
          464,
          422,
          343,
          365,
          384,
          359,
          394,
          452,
          490,
          539,
          541,
          609,
          551,
          548,
          520,
          500,
          501,
          513,
          569,
          556,
          611,
          624,
          617,
          637,
          566,
          553,
          505,
          504,
          537,
          528
         ]
        },
        {
         "marker": {
          "color": "blue"
         },
         "mode": "lines",
         "type": "scatter",
         "y": [
          58,
          35,
          106,
          65,
          68,
          58,
          73,
          69,
          79,
          63,
          44,
          58,
          37,
          34,
          47,
          43,
          38,
          43,
          53,
          48,
          41,
          49,
          36,
          21,
          42,
          35,
          38,
          38,
          38,
          36,
          48,
          43,
          45,
          53,
          42,
          55,
          24,
          61,
          36,
          47,
          60,
          57,
          50,
          83,
          68,
          88,
          84,
          80,
          76,
          72,
          104,
          106,
          131,
          156,
          134,
          191,
          186,
          155,
          179,
          179,
          244,
          201,
          195,
          232,
          253,
          301,
          335,
          366,
          324,
          348,
          311,
          338,
          326,
          358,
          369,
          406,
          406,
          453,
          397,
          434,
          394,
          391,
          369,
          389,
          368,
          409,
          404,
          405,
          382,
          417,
          380,
          365,
          366,
          359,
          375,
          374,
          331,
          353,
          339,
          327
         ]
        },
        {
         "marker": {
          "color": "yellow"
         },
         "mode": "lines",
         "type": "scatter",
         "y": [
          248,
          195,
          205,
          213,
          206,
          192,
          175,
          187,
          176,
          180,
          155,
          146,
          143,
          149,
          151,
          134,
          133,
          114,
          117,
          123,
          154,
          132,
          133,
          109,
          126,
          96,
          135,
          129,
          127,
          105,
          141,
          117,
          138,
          136,
          108,
          116,
          126,
          123,
          132,
          160,
          131,
          132,
          141,
          149,
          152,
          159,
          159,
          113,
          138,
          146,
          163,
          161,
          191,
          202,
          224,
          249,
          259,
          266,
          266,
          233,
          213,
          205,
          243,
          301,
          339,
          343,
          347,
          374,
          438,
          449,
          387,
          347,
          325,
          359,
          362,
          373,
          431,
          479,
          466,
          506,
          509,
          507,
          500,
          490,
          498,
          480,
          512,
          481,
          492,
          543,
          486,
          552,
          554,
          513,
          515,
          515,
          491,
          455,
          446,
          463
         ]
        },
        {
         "marker": {
          "color": "red"
         },
         "mode": "lines",
         "type": "scatter",
         "y": [
          117,
          126,
          120,
          115,
          115,
          120,
          107,
          110,
          119,
          109,
          94,
          94,
          107,
          106,
          92,
          103,
          105,
          81,
          98,
          94,
          88,
          90,
          103,
          96,
          90,
          106,
          88,
          86,
          74,
          86,
          100,
          96,
          83,
          82,
          83,
          94,
          81,
          90,
          89,
          90,
          83,
          79,
          77,
          88,
          94,
          85,
          98,
          94,
          86,
          81,
          88,
          89,
          82,
          98,
          89,
          90,
          94,
          90,
          94,
          102,
          86,
          92,
          94,
          103,
          113,
          106,
          115,
          121,
          115,
          121,
          138,
          119,
          115,
          123,
          120,
          120,
          134,
          132,
          132,
          164,
          140,
          140,
          147,
          132,
          155,
          143,
          138,
          124,
          160,
          136,
          155,
          140,
          141,
          130,
          165,
          151,
          169,
          127,
          127,
          144
         ]
        },
        {
         "marker": {
          "color": "blue"
         },
         "mode": "lines",
         "type": "scatter",
         "y": [
          44,
          26,
          55,
          52,
          39,
          45,
          60,
          38,
          36,
          43,
          56,
          54,
          49,
          37,
          34,
          54,
          39,
          42,
          40,
          36,
          53,
          38,
          42,
          26,
          30,
          34,
          29,
          38,
          42,
          56,
          49,
          51,
          53,
          45,
          50,
          51,
          52,
          44,
          39,
          57,
          53,
          60,
          67,
          56,
          63,
          67,
          64,
          60,
          79,
          70,
          99,
          103,
          79,
          94,
          95,
          83,
          98,
          91,
          97,
          78,
          102,
          107,
          82,
          105,
          116,
          108,
          108,
          107,
          116,
          103,
          90,
          123,
          161,
          108,
          137,
          140,
          139,
          138,
          156,
          171,
          146,
          157,
          144,
          164,
          154,
          159,
          154,
          191,
          172,
          154,
          191,
          156,
          168,
          167,
          166,
          168,
          149,
          156,
          168,
          177
         ]
        },
        {
         "marker": {
          "color": "yellow"
         },
         "mode": "lines",
         "type": "scatter",
         "y": [
          256,
          210,
          224,
          208,
          188,
          211,
          178,
          189,
          169,
          171,
          139,
          11,
          41,
          47,
          73,
          520,
          96,
          116,
          122,
          120,
          114,
          116,
          99,
          132,
          99,
          106,
          100,
          89,
          101,
          111,
          105,
          94,
          104,
          92,
          105,
          125,
          98,
          87,
          82,
          89,
          102,
          108,
          107,
          87,
          115,
          121,
          93,
          107,
          112,
          105,
          119,
          120,
          140,
          163,
          155,
          165,
          214,
          194,
          214,
          209,
          232,
          185,
          215,
          258,
          265,
          311,
          309,
          354,
          374,
          376,
          367,
          359,
          360,
          383,
          399,
          412,
          514,
          501,
          538,
          504,
          495,
          571,
          516,
          513,
          552,
          513,
          583,
          563,
          570,
          547,
          604,
          562,
          619,
          621,
          575,
          597,
          531,
          563,
          549,
          576
         ]
        }
       ],
       "layout": {
        "template": {
         "data": {
          "bar": [
           {
            "error_x": {
             "color": "#2a3f5f"
            },
            "error_y": {
             "color": "#2a3f5f"
            },
            "marker": {
             "line": {
              "color": "#E5ECF6",
              "width": 0.5
             },
             "pattern": {
              "fillmode": "overlay",
              "size": 10,
              "solidity": 0.2
             }
            },
            "type": "bar"
           }
          ],
          "barpolar": [
           {
            "marker": {
             "line": {
              "color": "#E5ECF6",
              "width": 0.5
             },
             "pattern": {
              "fillmode": "overlay",
              "size": 10,
              "solidity": 0.2
             }
            },
            "type": "barpolar"
           }
          ],
          "carpet": [
           {
            "aaxis": {
             "endlinecolor": "#2a3f5f",
             "gridcolor": "white",
             "linecolor": "white",
             "minorgridcolor": "white",
             "startlinecolor": "#2a3f5f"
            },
            "baxis": {
             "endlinecolor": "#2a3f5f",
             "gridcolor": "white",
             "linecolor": "white",
             "minorgridcolor": "white",
             "startlinecolor": "#2a3f5f"
            },
            "type": "carpet"
           }
          ],
          "choropleth": [
           {
            "colorbar": {
             "outlinewidth": 0,
             "ticks": ""
            },
            "type": "choropleth"
           }
          ],
          "contour": [
           {
            "colorbar": {
             "outlinewidth": 0,
             "ticks": ""
            },
            "colorscale": [
             [
              0,
              "#0d0887"
             ],
             [
              0.1111111111111111,
              "#46039f"
             ],
             [
              0.2222222222222222,
              "#7201a8"
             ],
             [
              0.3333333333333333,
              "#9c179e"
             ],
             [
              0.4444444444444444,
              "#bd3786"
             ],
             [
              0.5555555555555556,
              "#d8576b"
             ],
             [
              0.6666666666666666,
              "#ed7953"
             ],
             [
              0.7777777777777778,
              "#fb9f3a"
             ],
             [
              0.8888888888888888,
              "#fdca26"
             ],
             [
              1,
              "#f0f921"
             ]
            ],
            "type": "contour"
           }
          ],
          "contourcarpet": [
           {
            "colorbar": {
             "outlinewidth": 0,
             "ticks": ""
            },
            "type": "contourcarpet"
           }
          ],
          "heatmap": [
           {
            "colorbar": {
             "outlinewidth": 0,
             "ticks": ""
            },
            "colorscale": [
             [
              0,
              "#0d0887"
             ],
             [
              0.1111111111111111,
              "#46039f"
             ],
             [
              0.2222222222222222,
              "#7201a8"
             ],
             [
              0.3333333333333333,
              "#9c179e"
             ],
             [
              0.4444444444444444,
              "#bd3786"
             ],
             [
              0.5555555555555556,
              "#d8576b"
             ],
             [
              0.6666666666666666,
              "#ed7953"
             ],
             [
              0.7777777777777778,
              "#fb9f3a"
             ],
             [
              0.8888888888888888,
              "#fdca26"
             ],
             [
              1,
              "#f0f921"
             ]
            ],
            "type": "heatmap"
           }
          ],
          "heatmapgl": [
           {
            "colorbar": {
             "outlinewidth": 0,
             "ticks": ""
            },
            "colorscale": [
             [
              0,
              "#0d0887"
             ],
             [
              0.1111111111111111,
              "#46039f"
             ],
             [
              0.2222222222222222,
              "#7201a8"
             ],
             [
              0.3333333333333333,
              "#9c179e"
             ],
             [
              0.4444444444444444,
              "#bd3786"
             ],
             [
              0.5555555555555556,
              "#d8576b"
             ],
             [
              0.6666666666666666,
              "#ed7953"
             ],
             [
              0.7777777777777778,
              "#fb9f3a"
             ],
             [
              0.8888888888888888,
              "#fdca26"
             ],
             [
              1,
              "#f0f921"
             ]
            ],
            "type": "heatmapgl"
           }
          ],
          "histogram": [
           {
            "marker": {
             "pattern": {
              "fillmode": "overlay",
              "size": 10,
              "solidity": 0.2
             }
            },
            "type": "histogram"
           }
          ],
          "histogram2d": [
           {
            "colorbar": {
             "outlinewidth": 0,
             "ticks": ""
            },
            "colorscale": [
             [
              0,
              "#0d0887"
             ],
             [
              0.1111111111111111,
              "#46039f"
             ],
             [
              0.2222222222222222,
              "#7201a8"
             ],
             [
              0.3333333333333333,
              "#9c179e"
             ],
             [
              0.4444444444444444,
              "#bd3786"
             ],
             [
              0.5555555555555556,
              "#d8576b"
             ],
             [
              0.6666666666666666,
              "#ed7953"
             ],
             [
              0.7777777777777778,
              "#fb9f3a"
             ],
             [
              0.8888888888888888,
              "#fdca26"
             ],
             [
              1,
              "#f0f921"
             ]
            ],
            "type": "histogram2d"
           }
          ],
          "histogram2dcontour": [
           {
            "colorbar": {
             "outlinewidth": 0,
             "ticks": ""
            },
            "colorscale": [
             [
              0,
              "#0d0887"
             ],
             [
              0.1111111111111111,
              "#46039f"
             ],
             [
              0.2222222222222222,
              "#7201a8"
             ],
             [
              0.3333333333333333,
              "#9c179e"
             ],
             [
              0.4444444444444444,
              "#bd3786"
             ],
             [
              0.5555555555555556,
              "#d8576b"
             ],
             [
              0.6666666666666666,
              "#ed7953"
             ],
             [
              0.7777777777777778,
              "#fb9f3a"
             ],
             [
              0.8888888888888888,
              "#fdca26"
             ],
             [
              1,
              "#f0f921"
             ]
            ],
            "type": "histogram2dcontour"
           }
          ],
          "mesh3d": [
           {
            "colorbar": {
             "outlinewidth": 0,
             "ticks": ""
            },
            "type": "mesh3d"
           }
          ],
          "parcoords": [
           {
            "line": {
             "colorbar": {
              "outlinewidth": 0,
              "ticks": ""
             }
            },
            "type": "parcoords"
           }
          ],
          "pie": [
           {
            "automargin": true,
            "type": "pie"
           }
          ],
          "scatter": [
           {
            "fillpattern": {
             "fillmode": "overlay",
             "size": 10,
             "solidity": 0.2
            },
            "type": "scatter"
           }
          ],
          "scatter3d": [
           {
            "line": {
             "colorbar": {
              "outlinewidth": 0,
              "ticks": ""
             }
            },
            "marker": {
             "colorbar": {
              "outlinewidth": 0,
              "ticks": ""
             }
            },
            "type": "scatter3d"
           }
          ],
          "scattercarpet": [
           {
            "marker": {
             "colorbar": {
              "outlinewidth": 0,
              "ticks": ""
             }
            },
            "type": "scattercarpet"
           }
          ],
          "scattergeo": [
           {
            "marker": {
             "colorbar": {
              "outlinewidth": 0,
              "ticks": ""
             }
            },
            "type": "scattergeo"
           }
          ],
          "scattergl": [
           {
            "marker": {
             "colorbar": {
              "outlinewidth": 0,
              "ticks": ""
             }
            },
            "type": "scattergl"
           }
          ],
          "scattermapbox": [
           {
            "marker": {
             "colorbar": {
              "outlinewidth": 0,
              "ticks": ""
             }
            },
            "type": "scattermapbox"
           }
          ],
          "scatterpolar": [
           {
            "marker": {
             "colorbar": {
              "outlinewidth": 0,
              "ticks": ""
             }
            },
            "type": "scatterpolar"
           }
          ],
          "scatterpolargl": [
           {
            "marker": {
             "colorbar": {
              "outlinewidth": 0,
              "ticks": ""
             }
            },
            "type": "scatterpolargl"
           }
          ],
          "scatterternary": [
           {
            "marker": {
             "colorbar": {
              "outlinewidth": 0,
              "ticks": ""
             }
            },
            "type": "scatterternary"
           }
          ],
          "surface": [
           {
            "colorbar": {
             "outlinewidth": 0,
             "ticks": ""
            },
            "colorscale": [
             [
              0,
              "#0d0887"
             ],
             [
              0.1111111111111111,
              "#46039f"
             ],
             [
              0.2222222222222222,
              "#7201a8"
             ],
             [
              0.3333333333333333,
              "#9c179e"
             ],
             [
              0.4444444444444444,
              "#bd3786"
             ],
             [
              0.5555555555555556,
              "#d8576b"
             ],
             [
              0.6666666666666666,
              "#ed7953"
             ],
             [
              0.7777777777777778,
              "#fb9f3a"
             ],
             [
              0.8888888888888888,
              "#fdca26"
             ],
             [
              1,
              "#f0f921"
             ]
            ],
            "type": "surface"
           }
          ],
          "table": [
           {
            "cells": {
             "fill": {
              "color": "#EBF0F8"
             },
             "line": {
              "color": "white"
             }
            },
            "header": {
             "fill": {
              "color": "#C8D4E3"
             },
             "line": {
              "color": "white"
             }
            },
            "type": "table"
           }
          ]
         },
         "layout": {
          "annotationdefaults": {
           "arrowcolor": "#2a3f5f",
           "arrowhead": 0,
           "arrowwidth": 1
          },
          "autotypenumbers": "strict",
          "coloraxis": {
           "colorbar": {
            "outlinewidth": 0,
            "ticks": ""
           }
          },
          "colorscale": {
           "diverging": [
            [
             0,
             "#8e0152"
            ],
            [
             0.1,
             "#c51b7d"
            ],
            [
             0.2,
             "#de77ae"
            ],
            [
             0.3,
             "#f1b6da"
            ],
            [
             0.4,
             "#fde0ef"
            ],
            [
             0.5,
             "#f7f7f7"
            ],
            [
             0.6,
             "#e6f5d0"
            ],
            [
             0.7,
             "#b8e186"
            ],
            [
             0.8,
             "#7fbc41"
            ],
            [
             0.9,
             "#4d9221"
            ],
            [
             1,
             "#276419"
            ]
           ],
           "sequential": [
            [
             0,
             "#0d0887"
            ],
            [
             0.1111111111111111,
             "#46039f"
            ],
            [
             0.2222222222222222,
             "#7201a8"
            ],
            [
             0.3333333333333333,
             "#9c179e"
            ],
            [
             0.4444444444444444,
             "#bd3786"
            ],
            [
             0.5555555555555556,
             "#d8576b"
            ],
            [
             0.6666666666666666,
             "#ed7953"
            ],
            [
             0.7777777777777778,
             "#fb9f3a"
            ],
            [
             0.8888888888888888,
             "#fdca26"
            ],
            [
             1,
             "#f0f921"
            ]
           ],
           "sequentialminus": [
            [
             0,
             "#0d0887"
            ],
            [
             0.1111111111111111,
             "#46039f"
            ],
            [
             0.2222222222222222,
             "#7201a8"
            ],
            [
             0.3333333333333333,
             "#9c179e"
            ],
            [
             0.4444444444444444,
             "#bd3786"
            ],
            [
             0.5555555555555556,
             "#d8576b"
            ],
            [
             0.6666666666666666,
             "#ed7953"
            ],
            [
             0.7777777777777778,
             "#fb9f3a"
            ],
            [
             0.8888888888888888,
             "#fdca26"
            ],
            [
             1,
             "#f0f921"
            ]
           ]
          },
          "colorway": [
           "#636efa",
           "#EF553B",
           "#00cc96",
           "#ab63fa",
           "#FFA15A",
           "#19d3f3",
           "#FF6692",
           "#B6E880",
           "#FF97FF",
           "#FECB52"
          ],
          "font": {
           "color": "#2a3f5f"
          },
          "geo": {
           "bgcolor": "white",
           "lakecolor": "white",
           "landcolor": "#E5ECF6",
           "showlakes": true,
           "showland": true,
           "subunitcolor": "white"
          },
          "hoverlabel": {
           "align": "left"
          },
          "hovermode": "closest",
          "mapbox": {
           "style": "light"
          },
          "paper_bgcolor": "white",
          "plot_bgcolor": "#E5ECF6",
          "polar": {
           "angularaxis": {
            "gridcolor": "white",
            "linecolor": "white",
            "ticks": ""
           },
           "bgcolor": "#E5ECF6",
           "radialaxis": {
            "gridcolor": "white",
            "linecolor": "white",
            "ticks": ""
           }
          },
          "scene": {
           "xaxis": {
            "backgroundcolor": "#E5ECF6",
            "gridcolor": "white",
            "gridwidth": 2,
            "linecolor": "white",
            "showbackground": true,
            "ticks": "",
            "zerolinecolor": "white"
           },
           "yaxis": {
            "backgroundcolor": "#E5ECF6",
            "gridcolor": "white",
            "gridwidth": 2,
            "linecolor": "white",
            "showbackground": true,
            "ticks": "",
            "zerolinecolor": "white"
           },
           "zaxis": {
            "backgroundcolor": "#E5ECF6",
            "gridcolor": "white",
            "gridwidth": 2,
            "linecolor": "white",
            "showbackground": true,
            "ticks": "",
            "zerolinecolor": "white"
           }
          },
          "shapedefaults": {
           "line": {
            "color": "#2a3f5f"
           }
          },
          "ternary": {
           "aaxis": {
            "gridcolor": "white",
            "linecolor": "white",
            "ticks": ""
           },
           "baxis": {
            "gridcolor": "white",
            "linecolor": "white",
            "ticks": ""
           },
           "bgcolor": "#E5ECF6",
           "caxis": {
            "gridcolor": "white",
            "linecolor": "white",
            "ticks": ""
           }
          },
          "title": {
           "x": 0.05
          },
          "xaxis": {
           "automargin": true,
           "gridcolor": "white",
           "linecolor": "white",
           "ticks": "",
           "title": {
            "standoff": 15
           },
           "zerolinecolor": "white",
           "zerolinewidth": 2
          },
          "yaxis": {
           "automargin": true,
           "gridcolor": "white",
           "linecolor": "white",
           "ticks": "",
           "title": {
            "standoff": 15
           },
           "zerolinecolor": "white",
           "zerolinewidth": 2
          }
         }
        }
       }
      },
      "text/html": [
       "<div>                            <div id=\"7d40474c-131b-4758-9834-60585c8877fc\" class=\"plotly-graph-div\" style=\"height:525px; width:100%;\"></div>            <script type=\"text/javascript\">                require([\"plotly\"], function(Plotly) {                    window.PLOTLYENV=window.PLOTLYENV || {};                                    if (document.getElementById(\"7d40474c-131b-4758-9834-60585c8877fc\")) {                    Plotly.newPlot(                        \"7d40474c-131b-4758-9834-60585c8877fc\",                        [{\"marker\":{\"color\":\"blue\"},\"mode\":\"lines\",\"y\":[133.0,114.0,140.0,106.0,117.0,110.0,130.0,112.0,115.0,93.0,90.0,93.0,87.0,78.0,98.0,96.0,82.0,85.0,79.0,85.0,100.0,84.0,79.0,82.0,91.0,79.0,74.0,87.0,86.0,94.0,70.0,72.0,101.0,78.0,80.0,96.0,83.0,88.0,87.0,113.0,114.0,117.0,130.0,128.0,138.0,181.0,161.0,156.0,173.0,177.0,234.0,186.0,220.0,271.0,282.0,352.0,336.0,365.0,389.0,420.0,418.0,446.0,419.0,400.0,394.0,375.0,338.0,379.0,388.0,375.0,371.0,340.0,331.0,353.0,368.0,401.0,396.0,428.0,457.0,480.0,409.0,447.0,454.0,445.0,438.0,431.0,437.0,393.0,411.0,420.0,438.0,454.0,440.0,478.0,472.0,400.0,445.0,454.0,461.0,483.0],\"type\":\"scatter\"},{\"marker\":{\"color\":\"yellow\"},\"mode\":\"lines\",\"y\":[210.0,185.0,171.0,174.0,176.0,153.0,141.0,138.0,157.0,136.0,137.0,139.0,135.0,136.0,114.0,116.0,127.0,131.0,131.0,107.0,135.0,138.0,99.0,89.0,101.0,86.0,114.0,113.0,114.0,124.0,114.0,103.0,108.0,102.0,86.0,96.0,86.0,78.0,97.0,88.0,101.0,119.0,124.0,119.0,134.0,131.0,108.0,118.0,104.0,131.0,142.0,124.0,155.0,162.0,174.0,208.0,246.0,213.0,192.0,163.0,170.0,220.0,210.0,251.0,250.0,283.0,293.0,359.0,382.0,375.0,366.0,315.0,289.0,305.0,315.0,352.0,361.0,395.0,416.0,479.0,474.0,550.0,482.0,441.0,426.0,460.0,457.0,548.0,526.0,527.0,570.0,554.0,552.0,595.0,580.0,578.0,542.0,457.0,515.0,542.0],\"type\":\"scatter\"},{\"marker\":{\"color\":\"black\"},\"mode\":\"lines\",\"y\":[124.0,119.0,107.0,98.0,114.0,105.0,102.0,91.0,95.0,101.0,96.0,97.0,76.0,85.0,87.0,78.0,71.0,81.0,88.0,75.0,72.0,97.0,76.0,65.0,72.0,66.0,64.0,70.0,65.0,67.0,83.0,70.0,62.0,64.0,72.0,70.0,62.0,66.0,65.0,71.0,70.0,78.0,90.0,94.0,91.0,87.0,94.0,72.0,77.0,80.0,90.0,90.0,96.0,107.0,118.0,136.0,146.0,147.0,126.0,110.0,106.0,126.0,134.0,129.0,129.0,166.0,189.0,166.0,228.0,174.0,221.0,145.0,196.0,125.0,189.0,153.0,142.0,184.0,192.0,220.0,255.0,268.0,293.0,211.0,248.0,175.0,187.0,253.0,277.0,256.0,302.0,339.0,348.0,357.0,420.0,309.0,276.0,250.0,252.0,241.0],\"type\":\"scatter\"},{\"marker\":{\"color\":\"blue\"},\"mode\":\"lines\",\"y\":[145.0,184.0,146.0,148.0,130.0,156.0,141.0,146.0,107.0,115.0,136.0,109.0,99.0,113.0,122.0,101.0,114.0,100.0,94.0,107.0,113.0,107.0,108.0,98.0,92.0,73.0,90.0,93.0,93.0,98.0,62.0,93.0,99.0,88.0,108.0,107.0,105.0,91.0,101.0,115.0,106.0,126.0,117.0,131.0,178.0,190.0,159.0,190.0,162.0,196.0,199.0,246.0,260.0,328.0,349.0,357.0,382.0,420.0,425.0,450.0,418.0,422.0,386.0,387.0,378.0,373.0,394.0,401.0,389.0,385.0,379.0,356.0,368.0,384.0,420.0,419.0,461.0,482.0,485.0,414.0,490.0,478.0,471.0,460.0,492.0,468.0,420.0,458.0,493.0,485.0,448.0,503.0,483.0,469.0,440.0,448.0,474.0,494.0,484.0,476.0],\"type\":\"scatter\"},{\"marker\":{\"color\":\"yellow\"},\"mode\":\"lines\",\"y\":[206.0,194.0,162.0,193.0,163.0,157.0,158.0,179.0,156.0,177.0,169.0,119.0,131.0,161.0,147.0,124.0,124.0,124.0,128.0,145.0,141.0,141.0,154.0,100.0,111.0,105.0,101.0,112.0,122.0,140.0,111.0,135.0,96.0,101.0,91.0,120.0,104.0,93.0,100.0,108.0,108.0,116.0,144.0,157.0,158.0,151.0,158.0,130.0,126.0,142.0,174.0,193.0,204.0,207.0,243.0,294.0,313.0,361.0,303.0,236.0,226.0,245.0,260.0,321.0,315.0,370.0,352.0,412.0,464.0,506.0,464.0,422.0,343.0,365.0,384.0,359.0,394.0,452.0,490.0,539.0,541.0,609.0,551.0,548.0,520.0,500.0,501.0,513.0,569.0,556.0,611.0,624.0,617.0,637.0,566.0,553.0,505.0,504.0,537.0,528.0],\"type\":\"scatter\"},{\"marker\":{\"color\":\"blue\"},\"mode\":\"lines\",\"y\":[58.0,35.0,106.0,65.0,68.0,58.0,73.0,69.0,79.0,63.0,44.0,58.0,37.0,34.0,47.0,43.0,38.0,43.0,53.0,48.0,41.0,49.0,36.0,21.0,42.0,35.0,38.0,38.0,38.0,36.0,48.0,43.0,45.0,53.0,42.0,55.0,24.0,61.0,36.0,47.0,60.0,57.0,50.0,83.0,68.0,88.0,84.0,80.0,76.0,72.0,104.0,106.0,131.0,156.0,134.0,191.0,186.0,155.0,179.0,179.0,244.0,201.0,195.0,232.0,253.0,301.0,335.0,366.0,324.0,348.0,311.0,338.0,326.0,358.0,369.0,406.0,406.0,453.0,397.0,434.0,394.0,391.0,369.0,389.0,368.0,409.0,404.0,405.0,382.0,417.0,380.0,365.0,366.0,359.0,375.0,374.0,331.0,353.0,339.0,327.0],\"type\":\"scatter\"},{\"marker\":{\"color\":\"yellow\"},\"mode\":\"lines\",\"y\":[248.0,195.0,205.0,213.0,206.0,192.0,175.0,187.0,176.0,180.0,155.0,146.0,143.0,149.0,151.0,134.0,133.0,114.0,117.0,123.0,154.0,132.0,133.0,109.0,126.0,96.0,135.0,129.0,127.0,105.0,141.0,117.0,138.0,136.0,108.0,116.0,126.0,123.0,132.0,160.0,131.0,132.0,141.0,149.0,152.0,159.0,159.0,113.0,138.0,146.0,163.0,161.0,191.0,202.0,224.0,249.0,259.0,266.0,266.0,233.0,213.0,205.0,243.0,301.0,339.0,343.0,347.0,374.0,438.0,449.0,387.0,347.0,325.0,359.0,362.0,373.0,431.0,479.0,466.0,506.0,509.0,507.0,500.0,490.0,498.0,480.0,512.0,481.0,492.0,543.0,486.0,552.0,554.0,513.0,515.0,515.0,491.0,455.0,446.0,463.0],\"type\":\"scatter\"},{\"marker\":{\"color\":\"red\"},\"mode\":\"lines\",\"y\":[117.0,126.0,120.0,115.0,115.0,120.0,107.0,110.0,119.0,109.0,94.0,94.0,107.0,106.0,92.0,103.0,105.0,81.0,98.0,94.0,88.0,90.0,103.0,96.0,90.0,106.0,88.0,86.0,74.0,86.0,100.0,96.0,83.0,82.0,83.0,94.0,81.0,90.0,89.0,90.0,83.0,79.0,77.0,88.0,94.0,85.0,98.0,94.0,86.0,81.0,88.0,89.0,82.0,98.0,89.0,90.0,94.0,90.0,94.0,102.0,86.0,92.0,94.0,103.0,113.0,106.0,115.0,121.0,115.0,121.0,138.0,119.0,115.0,123.0,120.0,120.0,134.0,132.0,132.0,164.0,140.0,140.0,147.0,132.0,155.0,143.0,138.0,124.0,160.0,136.0,155.0,140.0,141.0,130.0,165.0,151.0,169.0,127.0,127.0,144.0],\"type\":\"scatter\"},{\"marker\":{\"color\":\"blue\"},\"mode\":\"lines\",\"y\":[44.0,26.0,55.0,52.0,39.0,45.0,60.0,38.0,36.0,43.0,56.0,54.0,49.0,37.0,34.0,54.0,39.0,42.0,40.0,36.0,53.0,38.0,42.0,26.0,30.0,34.0,29.0,38.0,42.0,56.0,49.0,51.0,53.0,45.0,50.0,51.0,52.0,44.0,39.0,57.0,53.0,60.0,67.0,56.0,63.0,67.0,64.0,60.0,79.0,70.0,99.0,103.0,79.0,94.0,95.0,83.0,98.0,91.0,97.0,78.0,102.0,107.0,82.0,105.0,116.0,108.0,108.0,107.0,116.0,103.0,90.0,123.0,161.0,108.0,137.0,140.0,139.0,138.0,156.0,171.0,146.0,157.0,144.0,164.0,154.0,159.0,154.0,191.0,172.0,154.0,191.0,156.0,168.0,167.0,166.0,168.0,149.0,156.0,168.0,177.0],\"type\":\"scatter\"},{\"marker\":{\"color\":\"yellow\"},\"mode\":\"lines\",\"y\":[256.0,210.0,224.0,208.0,188.0,211.0,178.0,189.0,169.0,171.0,139.0,11.0,41.0,47.0,73.0,520.0,96.0,116.0,122.0,120.0,114.0,116.0,99.0,132.0,99.0,106.0,100.0,89.0,101.0,111.0,105.0,94.0,104.0,92.0,105.0,125.0,98.0,87.0,82.0,89.0,102.0,108.0,107.0,87.0,115.0,121.0,93.0,107.0,112.0,105.0,119.0,120.0,140.0,163.0,155.0,165.0,214.0,194.0,214.0,209.0,232.0,185.0,215.0,258.0,265.0,311.0,309.0,354.0,374.0,376.0,367.0,359.0,360.0,383.0,399.0,412.0,514.0,501.0,538.0,504.0,495.0,571.0,516.0,513.0,552.0,513.0,583.0,563.0,570.0,547.0,604.0,562.0,619.0,621.0,575.0,597.0,531.0,563.0,549.0,576.0],\"type\":\"scatter\"}],                        {\"template\":{\"data\":{\"histogram2dcontour\":[{\"type\":\"histogram2dcontour\",\"colorbar\":{\"outlinewidth\":0,\"ticks\":\"\"},\"colorscale\":[[0.0,\"#0d0887\"],[0.1111111111111111,\"#46039f\"],[0.2222222222222222,\"#7201a8\"],[0.3333333333333333,\"#9c179e\"],[0.4444444444444444,\"#bd3786\"],[0.5555555555555556,\"#d8576b\"],[0.6666666666666666,\"#ed7953\"],[0.7777777777777778,\"#fb9f3a\"],[0.8888888888888888,\"#fdca26\"],[1.0,\"#f0f921\"]]}],\"choropleth\":[{\"type\":\"choropleth\",\"colorbar\":{\"outlinewidth\":0,\"ticks\":\"\"}}],\"histogram2d\":[{\"type\":\"histogram2d\",\"colorbar\":{\"outlinewidth\":0,\"ticks\":\"\"},\"colorscale\":[[0.0,\"#0d0887\"],[0.1111111111111111,\"#46039f\"],[0.2222222222222222,\"#7201a8\"],[0.3333333333333333,\"#9c179e\"],[0.4444444444444444,\"#bd3786\"],[0.5555555555555556,\"#d8576b\"],[0.6666666666666666,\"#ed7953\"],[0.7777777777777778,\"#fb9f3a\"],[0.8888888888888888,\"#fdca26\"],[1.0,\"#f0f921\"]]}],\"heatmap\":[{\"type\":\"heatmap\",\"colorbar\":{\"outlinewidth\":0,\"ticks\":\"\"},\"colorscale\":[[0.0,\"#0d0887\"],[0.1111111111111111,\"#46039f\"],[0.2222222222222222,\"#7201a8\"],[0.3333333333333333,\"#9c179e\"],[0.4444444444444444,\"#bd3786\"],[0.5555555555555556,\"#d8576b\"],[0.6666666666666666,\"#ed7953\"],[0.7777777777777778,\"#fb9f3a\"],[0.8888888888888888,\"#fdca26\"],[1.0,\"#f0f921\"]]}],\"heatmapgl\":[{\"type\":\"heatmapgl\",\"colorbar\":{\"outlinewidth\":0,\"ticks\":\"\"},\"colorscale\":[[0.0,\"#0d0887\"],[0.1111111111111111,\"#46039f\"],[0.2222222222222222,\"#7201a8\"],[0.3333333333333333,\"#9c179e\"],[0.4444444444444444,\"#bd3786\"],[0.5555555555555556,\"#d8576b\"],[0.6666666666666666,\"#ed7953\"],[0.7777777777777778,\"#fb9f3a\"],[0.8888888888888888,\"#fdca26\"],[1.0,\"#f0f921\"]]}],\"contourcarpet\":[{\"type\":\"contourcarpet\",\"colorbar\":{\"outlinewidth\":0,\"ticks\":\"\"}}],\"contour\":[{\"type\":\"contour\",\"colorbar\":{\"outlinewidth\":0,\"ticks\":\"\"},\"colorscale\":[[0.0,\"#0d0887\"],[0.1111111111111111,\"#46039f\"],[0.2222222222222222,\"#7201a8\"],[0.3333333333333333,\"#9c179e\"],[0.4444444444444444,\"#bd3786\"],[0.5555555555555556,\"#d8576b\"],[0.6666666666666666,\"#ed7953\"],[0.7777777777777778,\"#fb9f3a\"],[0.8888888888888888,\"#fdca26\"],[1.0,\"#f0f921\"]]}],\"surface\":[{\"type\":\"surface\",\"colorbar\":{\"outlinewidth\":0,\"ticks\":\"\"},\"colorscale\":[[0.0,\"#0d0887\"],[0.1111111111111111,\"#46039f\"],[0.2222222222222222,\"#7201a8\"],[0.3333333333333333,\"#9c179e\"],[0.4444444444444444,\"#bd3786\"],[0.5555555555555556,\"#d8576b\"],[0.6666666666666666,\"#ed7953\"],[0.7777777777777778,\"#fb9f3a\"],[0.8888888888888888,\"#fdca26\"],[1.0,\"#f0f921\"]]}],\"mesh3d\":[{\"type\":\"mesh3d\",\"colorbar\":{\"outlinewidth\":0,\"ticks\":\"\"}}],\"scatter\":[{\"fillpattern\":{\"fillmode\":\"overlay\",\"size\":10,\"solidity\":0.2},\"type\":\"scatter\"}],\"parcoords\":[{\"type\":\"parcoords\",\"line\":{\"colorbar\":{\"outlinewidth\":0,\"ticks\":\"\"}}}],\"scatterpolargl\":[{\"type\":\"scatterpolargl\",\"marker\":{\"colorbar\":{\"outlinewidth\":0,\"ticks\":\"\"}}}],\"bar\":[{\"error_x\":{\"color\":\"#2a3f5f\"},\"error_y\":{\"color\":\"#2a3f5f\"},\"marker\":{\"line\":{\"color\":\"#E5ECF6\",\"width\":0.5},\"pattern\":{\"fillmode\":\"overlay\",\"size\":10,\"solidity\":0.2}},\"type\":\"bar\"}],\"scattergeo\":[{\"type\":\"scattergeo\",\"marker\":{\"colorbar\":{\"outlinewidth\":0,\"ticks\":\"\"}}}],\"scatterpolar\":[{\"type\":\"scatterpolar\",\"marker\":{\"colorbar\":{\"outlinewidth\":0,\"ticks\":\"\"}}}],\"histogram\":[{\"marker\":{\"pattern\":{\"fillmode\":\"overlay\",\"size\":10,\"solidity\":0.2}},\"type\":\"histogram\"}],\"scattergl\":[{\"type\":\"scattergl\",\"marker\":{\"colorbar\":{\"outlinewidth\":0,\"ticks\":\"\"}}}],\"scatter3d\":[{\"type\":\"scatter3d\",\"line\":{\"colorbar\":{\"outlinewidth\":0,\"ticks\":\"\"}},\"marker\":{\"colorbar\":{\"outlinewidth\":0,\"ticks\":\"\"}}}],\"scattermapbox\":[{\"type\":\"scattermapbox\",\"marker\":{\"colorbar\":{\"outlinewidth\":0,\"ticks\":\"\"}}}],\"scatterternary\":[{\"type\":\"scatterternary\",\"marker\":{\"colorbar\":{\"outlinewidth\":0,\"ticks\":\"\"}}}],\"scattercarpet\":[{\"type\":\"scattercarpet\",\"marker\":{\"colorbar\":{\"outlinewidth\":0,\"ticks\":\"\"}}}],\"carpet\":[{\"aaxis\":{\"endlinecolor\":\"#2a3f5f\",\"gridcolor\":\"white\",\"linecolor\":\"white\",\"minorgridcolor\":\"white\",\"startlinecolor\":\"#2a3f5f\"},\"baxis\":{\"endlinecolor\":\"#2a3f5f\",\"gridcolor\":\"white\",\"linecolor\":\"white\",\"minorgridcolor\":\"white\",\"startlinecolor\":\"#2a3f5f\"},\"type\":\"carpet\"}],\"table\":[{\"cells\":{\"fill\":{\"color\":\"#EBF0F8\"},\"line\":{\"color\":\"white\"}},\"header\":{\"fill\":{\"color\":\"#C8D4E3\"},\"line\":{\"color\":\"white\"}},\"type\":\"table\"}],\"barpolar\":[{\"marker\":{\"line\":{\"color\":\"#E5ECF6\",\"width\":0.5},\"pattern\":{\"fillmode\":\"overlay\",\"size\":10,\"solidity\":0.2}},\"type\":\"barpolar\"}],\"pie\":[{\"automargin\":true,\"type\":\"pie\"}]},\"layout\":{\"autotypenumbers\":\"strict\",\"colorway\":[\"#636efa\",\"#EF553B\",\"#00cc96\",\"#ab63fa\",\"#FFA15A\",\"#19d3f3\",\"#FF6692\",\"#B6E880\",\"#FF97FF\",\"#FECB52\"],\"font\":{\"color\":\"#2a3f5f\"},\"hovermode\":\"closest\",\"hoverlabel\":{\"align\":\"left\"},\"paper_bgcolor\":\"white\",\"plot_bgcolor\":\"#E5ECF6\",\"polar\":{\"bgcolor\":\"#E5ECF6\",\"angularaxis\":{\"gridcolor\":\"white\",\"linecolor\":\"white\",\"ticks\":\"\"},\"radialaxis\":{\"gridcolor\":\"white\",\"linecolor\":\"white\",\"ticks\":\"\"}},\"ternary\":{\"bgcolor\":\"#E5ECF6\",\"aaxis\":{\"gridcolor\":\"white\",\"linecolor\":\"white\",\"ticks\":\"\"},\"baxis\":{\"gridcolor\":\"white\",\"linecolor\":\"white\",\"ticks\":\"\"},\"caxis\":{\"gridcolor\":\"white\",\"linecolor\":\"white\",\"ticks\":\"\"}},\"coloraxis\":{\"colorbar\":{\"outlinewidth\":0,\"ticks\":\"\"}},\"colorscale\":{\"sequential\":[[0.0,\"#0d0887\"],[0.1111111111111111,\"#46039f\"],[0.2222222222222222,\"#7201a8\"],[0.3333333333333333,\"#9c179e\"],[0.4444444444444444,\"#bd3786\"],[0.5555555555555556,\"#d8576b\"],[0.6666666666666666,\"#ed7953\"],[0.7777777777777778,\"#fb9f3a\"],[0.8888888888888888,\"#fdca26\"],[1.0,\"#f0f921\"]],\"sequentialminus\":[[0.0,\"#0d0887\"],[0.1111111111111111,\"#46039f\"],[0.2222222222222222,\"#7201a8\"],[0.3333333333333333,\"#9c179e\"],[0.4444444444444444,\"#bd3786\"],[0.5555555555555556,\"#d8576b\"],[0.6666666666666666,\"#ed7953\"],[0.7777777777777778,\"#fb9f3a\"],[0.8888888888888888,\"#fdca26\"],[1.0,\"#f0f921\"]],\"diverging\":[[0,\"#8e0152\"],[0.1,\"#c51b7d\"],[0.2,\"#de77ae\"],[0.3,\"#f1b6da\"],[0.4,\"#fde0ef\"],[0.5,\"#f7f7f7\"],[0.6,\"#e6f5d0\"],[0.7,\"#b8e186\"],[0.8,\"#7fbc41\"],[0.9,\"#4d9221\"],[1,\"#276419\"]]},\"xaxis\":{\"gridcolor\":\"white\",\"linecolor\":\"white\",\"ticks\":\"\",\"title\":{\"standoff\":15},\"zerolinecolor\":\"white\",\"automargin\":true,\"zerolinewidth\":2},\"yaxis\":{\"gridcolor\":\"white\",\"linecolor\":\"white\",\"ticks\":\"\",\"title\":{\"standoff\":15},\"zerolinecolor\":\"white\",\"automargin\":true,\"zerolinewidth\":2},\"scene\":{\"xaxis\":{\"backgroundcolor\":\"#E5ECF6\",\"gridcolor\":\"white\",\"linecolor\":\"white\",\"showbackground\":true,\"ticks\":\"\",\"zerolinecolor\":\"white\",\"gridwidth\":2},\"yaxis\":{\"backgroundcolor\":\"#E5ECF6\",\"gridcolor\":\"white\",\"linecolor\":\"white\",\"showbackground\":true,\"ticks\":\"\",\"zerolinecolor\":\"white\",\"gridwidth\":2},\"zaxis\":{\"backgroundcolor\":\"#E5ECF6\",\"gridcolor\":\"white\",\"linecolor\":\"white\",\"showbackground\":true,\"ticks\":\"\",\"zerolinecolor\":\"white\",\"gridwidth\":2}},\"shapedefaults\":{\"line\":{\"color\":\"#2a3f5f\"}},\"annotationdefaults\":{\"arrowcolor\":\"#2a3f5f\",\"arrowhead\":0,\"arrowwidth\":1},\"geo\":{\"bgcolor\":\"white\",\"landcolor\":\"#E5ECF6\",\"subunitcolor\":\"white\",\"showland\":true,\"showlakes\":true,\"lakecolor\":\"white\"},\"title\":{\"x\":0.05},\"mapbox\":{\"style\":\"light\"}}}},                        {\"responsive\": true}                    ).then(function(){\n",
       "                            \n",
       "var gd = document.getElementById('7d40474c-131b-4758-9834-60585c8877fc');\n",
       "var x = new MutationObserver(function (mutations, observer) {{\n",
       "        var display = window.getComputedStyle(gd).display;\n",
       "        if (!display || display === 'none') {{\n",
       "            console.log([gd, 'removed!']);\n",
       "            Plotly.purge(gd);\n",
       "            observer.disconnect();\n",
       "        }}\n",
       "}});\n",
       "\n",
       "// Listen for the removal of the full notebook cells\n",
       "var notebookContainer = gd.closest('#notebook-container');\n",
       "if (notebookContainer) {{\n",
       "    x.observe(notebookContainer, {childList: true});\n",
       "}}\n",
       "\n",
       "// Listen for the clearing of the current output cell\n",
       "var outputEl = gd.closest('.output');\n",
       "if (outputEl) {{\n",
       "    x.observe(outputEl, {childList: true});\n",
       "}}\n",
       "\n",
       "                        })                };                });            </script>        </div>"
      ]
     },
     "metadata": {},
     "output_type": "display_data"
    }
   ],
   "source": [
    "import numpy as np\n",
    "from tslearn.preprocessing import TimeSeriesScalerMeanVariance\n",
    "from tslearn.clustering import KShape\n",
    "import plotly.graph_objects as go\n",
    "\n",
    "data = np.load(\"../datasets/raw_data/PEMS08/PEMS08.npz\")[\"data\"][:100,:10,0].transpose(1,0)  # (10, 100)\n",
    "\n",
    "scaler = TimeSeriesScalerMeanVariance()\n",
    "data_scaled = scaler.fit_transform(data)\n",
    "\n",
    "# 使用 K-Shape 聚类\n",
    "n_clusters = 4\n",
    "kshape_model = KShape(n_clusters=n_clusters, n_init=10, verbose=False, random_state=42)\n",
    "labels = kshape_model.fit_predict(data_scaled)\n",
    "\n",
    "# 输出聚类结果\n",
    "print(\"聚类标签：\", labels)\n",
    "print(\"质心\", kshape_model.cluster_centers_.shape)\n",
    "\n",
    "fig = go.Figure()\n",
    "colors = ['red','black','blue','yellow']\n",
    "for i in range(data.shape[0]):\n",
    "    fig.add_trace(go.Scatter(\n",
    "                    y=data[i],\n",
    "                    mode=\"lines\",\n",
    "                    marker=dict(color=colors[labels[i]])\n",
    "                )\n",
    "            )\n",
    "fig.show()"
   ]
  },
  {
   "cell_type": "code",
   "execution_count": null,
   "metadata": {},
   "outputs": [
    {
     "data": {
      "text/plain": [
       "(4, 100, 1)"
      ]
     },
     "execution_count": 22,
     "metadata": {},
     "output_type": "execute_result"
    }
   ],
   "source": [
    "kshape_model.cluster_centers_.shape"
   ]
  }
 ],
 "metadata": {
  "kernelspec": {
   "display_name": "base",
   "language": "python",
   "name": "python3"
  },
  "language_info": {
   "codemirror_mode": {
    "name": "ipython",
    "version": 3
   },
   "file_extension": ".py",
   "mimetype": "text/x-python",
   "name": "python",
   "nbconvert_exporter": "python",
   "pygments_lexer": "ipython3",
   "version": "3.8.10"
  }
 },
 "nbformat": 4,
 "nbformat_minor": 2
}
